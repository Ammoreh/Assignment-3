{
  "nbformat": 4,
  "nbformat_minor": 0,
  "metadata": {
    "colab": {
      "name": "Assignment 3",
      "provenance": [],
      "authorship_tag": "ABX9TyNoGVQH3F87z4ABQcQHYBYB",
      "include_colab_link": true
    },
    "kernelspec": {
      "name": "python3",
      "display_name": "Python 3"
    },
    "language_info": {
      "name": "python"
    }
  },
  "cells": [
    {
      "cell_type": "markdown",
      "metadata": {
        "id": "view-in-github",
        "colab_type": "text"
      },
      "source": [
        "<a href=\"https://colab.research.google.com/github/Ammoreh/Assignment-3/blob/main/Assignment_3.ipynb\" target=\"_parent\"><img src=\"https://colab.research.google.com/assets/colab-badge.svg\" alt=\"Open In Colab\"/></a>"
      ]
    },
    {
      "cell_type": "code",
      "metadata": {
        "id": "KMJSpjB8Hykl",
        "colab": {
          "base_uri": "https://localhost:8080/"
        },
        "outputId": "16239001-d087-4098-c23f-2f3730861ab8"
      },
      "source": [
        "#Enter Full Names\n",
        "print(\"Enter First:  \")\n",
        "fname = input(\"fname\") #First Name\n",
        "lname = input(\"lname\") #last Name\n",
        "fullnames = fname + \" \" + lname\n",
        "#Enter phone, email\n",
        "print(\"Enter Customer's Phone Number: \")\n",
        "phone = input(\"phone\")\n",
        "print(\"Enter Customer's email address: \")\n",
        "email = input(\"email\")\n",
        "#price of a used car\n",
        "price = 10000.00\n",
        "has_good_credit = True\n",
        "if has_good_credit:\n",
        " down_payment = 0.1 * price\n",
        "else:\n",
        " down_payment = 0.2 * price\n",
        "print(\"Down Payment:\" + str(down_payment))\n",
        "print('')\n",
        "print(\"Full Names:\" + fullnames)\n",
        "print(\"Phone: \" + phone)\n",
        "print(\"Email: \" + email)\n",
        "print(\"Down Payment:\" + str(down_payment))"
      ],
      "execution_count": 16,
      "outputs": [
        {
          "output_type": "stream",
          "text": [
            "Enter First:  \n",
            "fnameAmos\n",
            "lnameMusembi\n",
            "Enter Customer's Phone Number: \n",
            "phone0726644068\n",
            "Enter Customer's email address: \n",
            "emailamosmusembi2@gmail.com\n",
            "Down Payment:1000.0\n",
            "\n",
            "Full Names:Amos Musembi\n",
            "Phone: 0726644068\n",
            "Email: amosmusembi2@gmail.com\n",
            "Down Payment:1000.0\n"
          ],
          "name": "stdout"
        }
      ]
    }
  ]
}